{
  "nbformat": 4,
  "nbformat_minor": 0,
  "metadata": {
    "colab": {
      "provenance": []
    },
    "kernelspec": {
      "name": "python3",
      "display_name": "Python 3"
    },
    "language_info": {
      "name": "python"
    }
  },
  "cells": [
    {
      "cell_type": "markdown",
      "source": [
        "# Data Science Tools and Ecosystems\n",
        "In this notebook, Data Science Tools and Ecosystem are summarized.\n"
      ],
      "metadata": {
        "id": "f9uCVnUZ4GTP"
      }
    },
    {
      "cell_type": "markdown",
      "source": [
        "**Objectives:**\n",
        "\n",
        "\n",
        "*   List popular languages for Data Science\n",
        "*   Data Science Tools\n",
        "\n",
        "\n",
        "*   Commonly used libraries for Data Scientists\n",
        "*   Evaluating arithmetic expressions in Pyton\n",
        "\n",
        "## Arthor\n",
        "Omar J\n",
        "\n"
      ],
      "metadata": {
        "id": "l0z-tD6cKmcn"
      }
    },
    {
      "cell_type": "markdown",
      "source": [
        " Some of the popular languages that Data Scientists use are:\n",
        "\n",
        "\n",
        "1.   Python\n",
        "2.   SQL\n",
        "\n",
        "1.   R\n",
        "\n",
        "\n",
        "\n",
        "\n",
        "\n",
        "\n"
      ],
      "metadata": {
        "id": "NSpWZrSlDayz"
      }
    },
    {
      "cell_type": "markdown",
      "source": [
        "Some of the commonly used libraries used by Data Scientists include:\n",
        "\n",
        "\n",
        "1.   Pandas\n",
        "2.   Numpy\n",
        "\n",
        "1.   Matplotlib\n",
        "2.   Seaborn\n",
        "\n",
        "\n",
        "\n"
      ],
      "metadata": {
        "id": "5ztxuZmUEoMg"
      }
    },
    {
      "cell_type": "markdown",
      "source": [
        "| Data Science Tools |\n",
        "| --- |\n",
        "| Jupyter Notebook |\n",
        "| Spyder |\n",
        "| Google Collab |\n",
        "| RStudio |\n",
        "\n"
      ],
      "metadata": {
        "id": "ZPIdVy8YFTAp"
      }
    },
    {
      "cell_type": "markdown",
      "source": [
        "### Below are a few examples of evaluating arithmetic expressions in Python\n",
        "\n"
      ],
      "metadata": {
        "id": "QCTBldwHHizd"
      }
    },
    {
      "cell_type": "code",
      "source": [
        "(3*4)+5 #This a simple arithmetic expression to mutiply then add integers"
      ],
      "metadata": {
        "colab": {
          "base_uri": "https://localhost:8080/"
        },
        "id": "5E6Ee4t6I_gG",
        "outputId": "162a65ae-9947-439d-dabd-c091156f37a8"
      },
      "execution_count": 1,
      "outputs": [
        {
          "output_type": "execute_result",
          "data": {
            "text/plain": [
              "17"
            ]
          },
          "metadata": {},
          "execution_count": 1
        }
      ]
    },
    {
      "cell_type": "code",
      "source": [
        "#This will convert 200 minutes to hours by diving by 60\n",
        "\n",
        "minutes = 200\n",
        "hours = minutes / 60\n",
        "print(hours)"
      ],
      "metadata": {
        "colab": {
          "base_uri": "https://localhost:8080/"
        },
        "id": "49thFU8_JgE7",
        "outputId": "1d60ca82-9662-40dd-900f-03fb068cdf00"
      },
      "execution_count": 2,
      "outputs": [
        {
          "output_type": "stream",
          "name": "stdout",
          "text": [
            "3.3333333333333335\n"
          ]
        }
      ]
    }
  ]
}